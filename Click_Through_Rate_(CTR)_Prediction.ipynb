{
  "nbformat": 4,
  "nbformat_minor": 0,
  "metadata": {
    "colab": {
      "name": "Click-Through Rate (CTR) Prediction.ipynb",
      "provenance": [],
      "toc_visible": true,
      "mount_file_id": "1-vwElvXtXhvj31-QT2TjHAsCMBaOlSBV",
      "authorship_tag": "ABX9TyNyrzNYLoZs4PFNwkBN3hUp",
      "include_colab_link": true
    },
    "kernelspec": {
      "name": "python3",
      "display_name": "Python 3"
    }
  },
  "cells": [
    {
      "cell_type": "markdown",
      "metadata": {
        "id": "view-in-github",
        "colab_type": "text"
      },
      "source": [
        "<a href=\"https://colab.research.google.com/github/hadisbz/CTR_Prediction/blob/master/Click_Through_Rate_(CTR)_Prediction.ipynb\" target=\"_parent\"><img src=\"https://colab.research.google.com/assets/colab-badge.svg\" alt=\"Open In Colab\"/></a>"
      ]
    },
    {
      "cell_type": "code",
      "metadata": {
        "id": "cEPTpckPhMaU",
        "colab_type": "code",
        "colab": {
          "base_uri": "https://localhost:8080/",
          "height": 54
        },
        "outputId": "70fb05ac-84a8-448d-b4b6-de67b3fa6beb"
      },
      "source": [
        "from google.colab import drive\n",
        "drive.mount('/content/drive')"
      ],
      "execution_count": null,
      "outputs": [
        {
          "output_type": "stream",
          "text": [
            "Drive already mounted at /content/drive; to attempt to forcibly remount, call drive.mount(\"/content/drive\", force_remount=True).\n"
          ],
          "name": "stdout"
        }
      ]
    },
    {
      "cell_type": "code",
      "metadata": {
        "id": "QU4IZncOiwjU",
        "colab_type": "code",
        "colab": {}
      },
      "source": [
        "from zipfile import ZipFile\n",
        "with ZipFile ('/content/drive/My Drive/avazu-ctr-prediction.zip', 'r') as zipObj:\n",
        "  zipObj.extractall()"
      ],
      "execution_count": null,
      "outputs": []
    },
    {
      "cell_type": "code",
      "metadata": {
        "id": "qBkAYm8Vjq44",
        "colab_type": "code",
        "colab": {}
      },
      "source": [
        "import gzip\n",
        "import shutil\n",
        "with gzip.open('/content/train.gz','rb') as f_in:\n",
        "  with open('/content/train.csv','wb') as f_out:\n",
        "    shutil.copyfileobj(f_in,f_out)\n",
        "with gzip.open('/content/test.gz','rb') as f_in:\n",
        "  with open('/content/test.csv','wb') as f_out:\n",
        "    shutil.copyfileobj(f_in,f_out)"
      ],
      "execution_count": null,
      "outputs": []
    }
  ]
}