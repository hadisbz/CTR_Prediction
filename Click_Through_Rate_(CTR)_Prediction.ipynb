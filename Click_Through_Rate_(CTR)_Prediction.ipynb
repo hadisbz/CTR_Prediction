{
  "nbformat": 4,
  "nbformat_minor": 0,
  "metadata": {
    "colab": {
      "name": "Click-Through Rate (CTR) Prediction.ipynb",
      "provenance": [],
      "collapsed_sections": [],
      "toc_visible": true,
      "mount_file_id": "1-vwElvXtXhvj31-QT2TjHAsCMBaOlSBV",
      "authorship_tag": "ABX9TyMa4i8pMsIima82BbYQT8Ua",
      "include_colab_link": true
    },
    "kernelspec": {
      "name": "python3",
      "display_name": "Python 3"
    }
  },
  "cells": [
    {
      "cell_type": "markdown",
      "metadata": {
        "id": "view-in-github",
        "colab_type": "text"
      },
      "source": [
        "<a href=\"https://colab.research.google.com/github/hadisbz/CTR_Prediction/blob/master/Click_Through_Rate_(CTR)_Prediction.ipynb\" target=\"_parent\"><img src=\"https://colab.research.google.com/assets/colab-badge.svg\" alt=\"Open In Colab\"/></a>"
      ]
    },
    {
      "cell_type": "markdown",
      "metadata": {
        "id": "-4TQHjD3fv1J",
        "colab_type": "text"
      },
      "source": [
        "**2. Exploratory Data Analysis**\n",
        "\n",
        "---\n",
        "\n",
        "**Data Loading **\n",
        "\n",
        "I use Google Colab so first copy file to your Google Drive by clicking to [this link](https://drive.google.com/drive/folders/1AmQ6-Dg9D3SC2cErSDHUPXJIZ42b4heX) and based on below picture:\n",
        "\n",
        "[pic1](https://github.com/hadisbz/CTR_Prediction/blob/master/images/1.png)"
      ]
    },
    {
      "cell_type": "markdown",
      "metadata": {
        "id": "mN2sA02Rke3N",
        "colab_type": "text"
      },
      "source": [
        "Sign in to Google colab: https://colab.research.google.com/ and click on \"new notebook\"\n",
        "\n",
        "[pic2](https://github.com/hadisbz/CTR_Prediction/blob/master/images/2.png)"
      ]
    },
    {
      "cell_type": "markdown",
      "metadata": {
        "id": "rjID0w6dlOWw",
        "colab_type": "text"
      },
      "source": [
        "Then do this steps in order:\n",
        "\n",
        "[pic3](https://github.com/hadisbz/CTR_Prediction/blob/master/images/3.png)"
      ]
    },
    {
      "cell_type": "markdown",
      "metadata": {
        "id": "Csd9kaGOnDCz",
        "colab_type": "text"
      },
      "source": [
        "Now, Google Colab is connected to Google Drive by mounting Google Drive:"
      ]
    },
    {
      "cell_type": "code",
      "metadata": {
        "id": "cEPTpckPhMaU",
        "colab_type": "code",
        "colab": {
          "base_uri": "https://localhost:8080/",
          "height": 54
        },
        "outputId": "17820057-0e92-446a-e782-e55e8be6b7a2"
      },
      "source": [
        "from google.colab import drive\n",
        "drive.mount('/content/drive')"
      ],
      "execution_count": 1,
      "outputs": [
        {
          "output_type": "stream",
          "text": [
            "Drive already mounted at /content/drive; to attempt to forcibly remount, call drive.mount(\"/content/drive\", force_remount=True).\n"
          ],
          "name": "stdout"
        }
      ]
    },
    {
      "cell_type": "markdown",
      "metadata": {
        "id": "ohkxfQ4HniPs",
        "colab_type": "text"
      },
      "source": [
        "Open the Zip file (there is a gz file):"
      ]
    },
    {
      "cell_type": "code",
      "metadata": {
        "id": "QU4IZncOiwjU",
        "colab_type": "code",
        "colab": {}
      },
      "source": [
        "from zipfile import ZipFile\n",
        "with ZipFile ('/content/drive/My Drive/avazu-ctr-prediction.zip', 'r') as zipObj:\n",
        "  zipObj.extractall()"
      ],
      "execution_count": 2,
      "outputs": []
    },
    {
      "cell_type": "markdown",
      "metadata": {
        "id": "5kTt23OOoPYB",
        "colab_type": "text"
      },
      "source": [
        "Open the gz file (there is a csv file):"
      ]
    },
    {
      "cell_type": "code",
      "metadata": {
        "id": "qBkAYm8Vjq44",
        "colab_type": "code",
        "colab": {}
      },
      "source": [
        "import gzip\n",
        "import shutil\n",
        "with gzip.open('/content/train.gz','rb') as f_in:\n",
        "  with open('/content/train.csv','wb') as f_out:\n",
        "    shutil.copyfileobj(f_in,f_out)\n",
        "with gzip.open('/content/test.gz','rb') as f_in:\n",
        "  with open('/content/test.csv','wb') as f_out:\n",
        "    shutil.copyfileobj(f_in,f_out)"
      ],
      "execution_count": 3,
      "outputs": []
    }
  ]
}